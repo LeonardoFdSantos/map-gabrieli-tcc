{
 "cells": [
  {
   "cell_type": "code",
   "execution_count": 1,
   "metadata": {},
   "outputs": [],
   "source": [
    "import pandas as pd\n",
    "import numpy as np\n",
    "import folium\n",
    "from folium import plugins"
   ]
  },
  {
   "cell_type": "code",
   "execution_count": 2,
   "metadata": {
    "jupyter": {
     "outputs_hidden": false
    },
    "pycharm": {
     "name": "#%%\n"
    }
   },
   "outputs": [
    {
     "data": {
      "text/html": [
       "<div>\n",
       "<style scoped>\n",
       "    .dataframe tbody tr th:only-of-type {\n",
       "        vertical-align: middle;\n",
       "    }\n",
       "\n",
       "    .dataframe tbody tr th {\n",
       "        vertical-align: top;\n",
       "    }\n",
       "\n",
       "    .dataframe thead th {\n",
       "        text-align: right;\n",
       "    }\n",
       "</style>\n",
       "<table border=\"1\" class=\"dataframe\">\n",
       "  <thead>\n",
       "    <tr style=\"text-align: right;\">\n",
       "      <th></th>\n",
       "      <th>Cód</th>\n",
       "      <th>Localizacao</th>\n",
       "      <th>Latitude</th>\n",
       "      <th>Longetude</th>\n",
       "    </tr>\n",
       "  </thead>\n",
       "  <tbody>\n",
       "    <tr>\n",
       "      <th>0</th>\n",
       "      <td>1</td>\n",
       "      <td>APAE</td>\n",
       "      <td>-29.691053</td>\n",
       "      <td>-53.864427</td>\n",
       "    </tr>\n",
       "    <tr>\n",
       "      <th>1</th>\n",
       "      <td>2</td>\n",
       "      <td>Caps Infantil O Equilibrista</td>\n",
       "      <td>-29.695255</td>\n",
       "      <td>-53.801872</td>\n",
       "    </tr>\n",
       "    <tr>\n",
       "      <th>2</th>\n",
       "      <td>3</td>\n",
       "      <td>Escola Antônio Francisco Lisbôa</td>\n",
       "      <td>-29.688296</td>\n",
       "      <td>-53.796115</td>\n",
       "    </tr>\n",
       "  </tbody>\n",
       "</table>\n",
       "</div>"
      ],
      "text/plain": [
       "   Cód                      Localizacao   Latitude  Longetude\n",
       "0    1                             APAE -29.691053 -53.864427\n",
       "1    2     Caps Infantil O Equilibrista -29.695255 -53.801872\n",
       "2    3  Escola Antônio Francisco Lisbôa -29.688296 -53.796115"
      ]
     },
     "execution_count": 2,
     "metadata": {},
     "output_type": "execute_result"
    }
   ],
   "source": [
    "maps = pd.read_excel('localizacoes.xlsx')\n",
    "maps = maps\n",
    "maps"
   ]
  },
  {
   "cell_type": "code",
   "execution_count": 3,
   "metadata": {
    "jupyter": {
     "outputs_hidden": false
    },
    "pycharm": {
     "name": "#%%\n"
    }
   },
   "outputs": [],
   "source": [
    "coordenadas = []\n",
    "for lat, lng in zip(maps.Latitude.values[:999],maps.Longetude.values[:999]):\n",
    "    coordenadas.append([lat,lng])"
   ]
  },
  {
   "cell_type": "code",
   "execution_count": 4,
   "metadata": {
    "jupyter": {
     "outputs_hidden": false
    },
    "pycharm": {
     "name": "#%%\n"
    }
   },
   "outputs": [],
   "source": [
    "mapa = folium.Map(\n",
    "    location=[-29.713735225021466, -53.71281461789054],\n",
    "    tiles=\"OpenStreetMap\",\n",
    "    zoom_start=3\n",
    ")"
   ]
  },
  {
   "cell_type": "code",
   "execution_count": 5,
   "metadata": {
    "jupyter": {
     "outputs_hidden": false
    },
    "pycharm": {
     "name": "#%%\n"
    }
   },
   "outputs": [],
   "source": [
    "mc = plugins.MarkerCluster()"
   ]
  },
  {
   "cell_type": "code",
   "execution_count": 6,
   "metadata": {},
   "outputs": [],
   "source": [
    "iconeGabrieli = folium.features.CustomIcon('https://raw.githubusercontent.com/LeonardoFdSantos/energens-map/main/Localizacao_Gabrieli.png',icon_size=(75,75), icon_anchor=(37.5, 72), popup_anchor=(0,-70))"
   ]
  },
  {
   "cell_type": "code",
   "execution_count": 7,
   "metadata": {},
   "outputs": [
    {
     "data": {
      "text/plain": [
       "<folium.plugins.marker_cluster.MarkerCluster at 0x203e9880910>"
      ]
     },
     "execution_count": 7,
     "metadata": {},
     "output_type": "execute_result"
    }
   ],
   "source": [
    "mc.add_child(folium.Marker([-29.713735225021466, -53.71281461789054],\n",
    "                  popup=\"Prédio 26D - CCS - Terapia Ocupacional - UFSM\",\n",
    "                  tooltip='Prédio 26D - CCS - Terapia Ocupacional - UFSM',\n",
    "                  icon=(iconeGabrieli))).add_to(mapa)"
   ]
  },
  {
   "cell_type": "code",
   "execution_count": 8,
   "metadata": {},
   "outputs": [],
   "source": [
    "for index, creche in maps.iterrows():\n",
    "      valores = folium.Popup(str(creche['Localizacao']),max_width=300)\n",
    "      mc.add_child(folium.Marker([creche['Latitude'], creche['Longetude']],\n",
    "                  popup=(valores),\n",
    "                  tooltip=creche['Localizacao'],\n",
    "                  icon=(iconeGabrieli))).add_to(mapa)"
   ]
  },
  {
   "cell_type": "code",
   "execution_count": 9,
   "metadata": {},
   "outputs": [],
   "source": [
    "mapa.save(outfile=\"index.html\")"
   ]
  },
  {
   "cell_type": "markdown",
   "metadata": {},
   "source": [
    "tiles=\"OpenStreetMap\",\n",
    "<link rel=\"sortcut icon\" href=\"https://raw.githubusercontent.com/LeonardoFdSantos/energens-map/main/energens-principal.png\" type=\"image/x-icon\" />\n"
   ]
  },
  {
   "cell_type": "code",
   "execution_count": 10,
   "metadata": {},
   "outputs": [
    {
     "data": {
      "text/html": [
       "<div style=\"width:100%;\"><div style=\"position:relative;width:100%;height:0;padding-bottom:60%;\"><span style=\"color:#565656\">Make this Notebook Trusted to load map: File -> Trust Notebook</span><iframe srcdoc=\"&lt;!DOCTYPE html&gt;\n",
       "&lt;html&gt;\n",
       "&lt;head&gt;\n",
       "    \n",
       "    &lt;meta http-equiv=&quot;content-type&quot; content=&quot;text/html; charset=UTF-8&quot; /&gt;\n",
       "    \n",
       "        &lt;script&gt;\n",
       "            L_NO_TOUCH = false;\n",
       "            L_DISABLE_3D = false;\n",
       "        &lt;/script&gt;\n",
       "    \n",
       "    &lt;style&gt;html, body {width: 100%;height: 100%;margin: 0;padding: 0;}&lt;/style&gt;\n",
       "    &lt;style&gt;#map {position:absolute;top:0;bottom:0;right:0;left:0;}&lt;/style&gt;\n",
       "    &lt;script src=&quot;https://cdn.jsdelivr.net/npm/leaflet@1.9.3/dist/leaflet.js&quot;&gt;&lt;/script&gt;\n",
       "    &lt;script src=&quot;https://code.jquery.com/jquery-1.12.4.min.js&quot;&gt;&lt;/script&gt;\n",
       "    &lt;script src=&quot;https://cdn.jsdelivr.net/npm/bootstrap@5.2.2/dist/js/bootstrap.bundle.min.js&quot;&gt;&lt;/script&gt;\n",
       "    &lt;script src=&quot;https://cdnjs.cloudflare.com/ajax/libs/Leaflet.awesome-markers/2.0.2/leaflet.awesome-markers.js&quot;&gt;&lt;/script&gt;\n",
       "    &lt;link rel=&quot;stylesheet&quot; href=&quot;https://cdn.jsdelivr.net/npm/leaflet@1.9.3/dist/leaflet.css&quot;/&gt;\n",
       "    &lt;link rel=&quot;stylesheet&quot; href=&quot;https://cdn.jsdelivr.net/npm/bootstrap@5.2.2/dist/css/bootstrap.min.css&quot;/&gt;\n",
       "    &lt;link rel=&quot;stylesheet&quot; href=&quot;https://netdna.bootstrapcdn.com/bootstrap/3.0.0/css/bootstrap.min.css&quot;/&gt;\n",
       "    &lt;link rel=&quot;stylesheet&quot; href=&quot;https://cdn.jsdelivr.net/npm/@fortawesome/fontawesome-free@6.2.0/css/all.min.css&quot;/&gt;\n",
       "    &lt;link rel=&quot;stylesheet&quot; href=&quot;https://cdnjs.cloudflare.com/ajax/libs/Leaflet.awesome-markers/2.0.2/leaflet.awesome-markers.css&quot;/&gt;\n",
       "    &lt;link rel=&quot;stylesheet&quot; href=&quot;https://cdn.jsdelivr.net/gh/python-visualization/folium/folium/templates/leaflet.awesome.rotate.min.css&quot;/&gt;\n",
       "    \n",
       "            &lt;meta name=&quot;viewport&quot; content=&quot;width=device-width,\n",
       "                initial-scale=1.0, maximum-scale=1.0, user-scalable=no&quot; /&gt;\n",
       "            &lt;style&gt;\n",
       "                #map_b4270842c32eec30ac48869286eb121d {\n",
       "                    position: relative;\n",
       "                    width: 100.0%;\n",
       "                    height: 100.0%;\n",
       "                    left: 0.0%;\n",
       "                    top: 0.0%;\n",
       "                }\n",
       "                .leaflet-container { font-size: 1rem; }\n",
       "            &lt;/style&gt;\n",
       "        \n",
       "    &lt;script src=&quot;https://cdnjs.cloudflare.com/ajax/libs/leaflet.markercluster/1.1.0/leaflet.markercluster.js&quot;&gt;&lt;/script&gt;\n",
       "    &lt;link rel=&quot;stylesheet&quot; href=&quot;https://cdnjs.cloudflare.com/ajax/libs/leaflet.markercluster/1.1.0/MarkerCluster.css&quot;/&gt;\n",
       "    &lt;link rel=&quot;stylesheet&quot; href=&quot;https://cdnjs.cloudflare.com/ajax/libs/leaflet.markercluster/1.1.0/MarkerCluster.Default.css&quot;/&gt;\n",
       "&lt;/head&gt;\n",
       "&lt;body&gt;\n",
       "    \n",
       "    \n",
       "            &lt;div class=&quot;folium-map&quot; id=&quot;map_b4270842c32eec30ac48869286eb121d&quot; &gt;&lt;/div&gt;\n",
       "        \n",
       "&lt;/body&gt;\n",
       "&lt;script&gt;\n",
       "    \n",
       "    \n",
       "            var map_b4270842c32eec30ac48869286eb121d = L.map(\n",
       "                &quot;map_b4270842c32eec30ac48869286eb121d&quot;,\n",
       "                {\n",
       "                    center: [-29.713735225021466, -53.71281461789054],\n",
       "                    crs: L.CRS.EPSG3857,\n",
       "                    zoom: 7,\n",
       "                    zoomControl: true,\n",
       "                    preferCanvas: false,\n",
       "                }\n",
       "            );\n",
       "\n",
       "            \n",
       "\n",
       "        \n",
       "    \n",
       "            var tile_layer_bf063a19b0c6035193b12d4a6104ab07 = L.tileLayer(\n",
       "                &quot;https://{s}.tile.openstreetmap.org/{z}/{x}/{y}.png&quot;,\n",
       "                {&quot;attribution&quot;: &quot;Data by \\u0026copy; \\u003ca target=\\&quot;_blank\\&quot; href=\\&quot;http://openstreetmap.org\\&quot;\\u003eOpenStreetMap\\u003c/a\\u003e, under \\u003ca target=\\&quot;_blank\\&quot; href=\\&quot;http://www.openstreetmap.org/copyright\\&quot;\\u003eODbL\\u003c/a\\u003e.&quot;, &quot;detectRetina&quot;: false, &quot;maxNativeZoom&quot;: 18, &quot;maxZoom&quot;: 18, &quot;minZoom&quot;: 0, &quot;noWrap&quot;: false, &quot;opacity&quot;: 1, &quot;subdomains&quot;: &quot;abc&quot;, &quot;tms&quot;: false}\n",
       "            ).addTo(map_b4270842c32eec30ac48869286eb121d);\n",
       "        \n",
       "    \n",
       "            var marker_cluster_591d644573c358fcb9472a6d58ca4c4a = L.markerClusterGroup(\n",
       "                {}\n",
       "            );\n",
       "            map_b4270842c32eec30ac48869286eb121d.addLayer(marker_cluster_591d644573c358fcb9472a6d58ca4c4a);\n",
       "        \n",
       "    \n",
       "            var marker_e09d7110de5a376961ab1080ce2317ed = L.marker(\n",
       "                [-29.713735225021466, -53.71281461789054],\n",
       "                {}\n",
       "            ).addTo(marker_cluster_591d644573c358fcb9472a6d58ca4c4a);\n",
       "        \n",
       "    \n",
       "        var custom_icon_514dc275bd1067c87e7ccb084ca12b43 = L.icon({&quot;iconAnchor&quot;: [37.5, 72], &quot;iconSize&quot;: [75, 75], &quot;iconUrl&quot;: &quot;https://raw.githubusercontent.com/LeonardoFdSantos/energens-map/main/Localizacao_Gabrieli.png&quot;, &quot;popupAnchor&quot;: [0, -70]});\n",
       "        marker_2c79f98030e6aa136bbdeb82e39660da.setIcon(custom_icon_514dc275bd1067c87e7ccb084ca12b43);\n",
       "        \n",
       "    \n",
       "        var popup_2d68d82856649e70e9fa64120de25699 = L.popup({&quot;maxWidth&quot;: &quot;100%&quot;});\n",
       "\n",
       "        \n",
       "            \n",
       "                var html_90a129fd0f2e3f7e714ad4624161a529 = $(`&lt;div id=&quot;html_90a129fd0f2e3f7e714ad4624161a529&quot; style=&quot;width: 100.0%; height: 100.0%;&quot;&gt;Prédio 26D - CCS - Terapia Ocupacional - UFSM&lt;/div&gt;`)[0];\n",
       "                popup_2d68d82856649e70e9fa64120de25699.setContent(html_90a129fd0f2e3f7e714ad4624161a529);\n",
       "            \n",
       "        \n",
       "\n",
       "        marker_e09d7110de5a376961ab1080ce2317ed.bindPopup(popup_2d68d82856649e70e9fa64120de25699)\n",
       "        ;\n",
       "\n",
       "        \n",
       "    \n",
       "    \n",
       "            marker_e09d7110de5a376961ab1080ce2317ed.bindTooltip(\n",
       "                `&lt;div&gt;\n",
       "                     Prédio 26D - CCS - Terapia Ocupacional - UFSM\n",
       "                 &lt;/div&gt;`,\n",
       "                {&quot;sticky&quot;: true}\n",
       "            );\n",
       "        \n",
       "    \n",
       "            var marker_055c23f690ae77bfaa3bfec1662a7188 = L.marker(\n",
       "                [-29.6910525, -53.8644269],\n",
       "                {}\n",
       "            ).addTo(marker_cluster_591d644573c358fcb9472a6d58ca4c4a);\n",
       "        \n",
       "    \n",
       "        var popup_41e6bd9561bfac2ebf4415229a381d7b = L.popup({&quot;maxWidth&quot;: 300});\n",
       "\n",
       "        \n",
       "            \n",
       "                var html_6ed4efe59edc26eee574a6f362b112d8 = $(`&lt;div id=&quot;html_6ed4efe59edc26eee574a6f362b112d8&quot; style=&quot;width: 100.0%; height: 100.0%;&quot;&gt;APAE&lt;/div&gt;`)[0];\n",
       "                popup_41e6bd9561bfac2ebf4415229a381d7b.setContent(html_6ed4efe59edc26eee574a6f362b112d8);\n",
       "            \n",
       "        \n",
       "\n",
       "        marker_055c23f690ae77bfaa3bfec1662a7188.bindPopup(popup_41e6bd9561bfac2ebf4415229a381d7b)\n",
       "        ;\n",
       "\n",
       "        \n",
       "    \n",
       "    \n",
       "            marker_055c23f690ae77bfaa3bfec1662a7188.bindTooltip(\n",
       "                `&lt;div&gt;\n",
       "                     APAE\n",
       "                 &lt;/div&gt;`,\n",
       "                {&quot;sticky&quot;: true}\n",
       "            );\n",
       "        \n",
       "    \n",
       "            var marker_00d569e93626f2abfcaac73ac7177a4e = L.marker(\n",
       "                [-29.6952547, -53.8018717],\n",
       "                {}\n",
       "            ).addTo(marker_cluster_591d644573c358fcb9472a6d58ca4c4a);\n",
       "        \n",
       "    \n",
       "        var popup_aeff90188aa30d8324668afdddcaeeed = L.popup({&quot;maxWidth&quot;: 300});\n",
       "\n",
       "        \n",
       "            \n",
       "                var html_383e779d7b200e994de19a287fa747a5 = $(`&lt;div id=&quot;html_383e779d7b200e994de19a287fa747a5&quot; style=&quot;width: 100.0%; height: 100.0%;&quot;&gt;Caps Infantil O Equilibrista&lt;/div&gt;`)[0];\n",
       "                popup_aeff90188aa30d8324668afdddcaeeed.setContent(html_383e779d7b200e994de19a287fa747a5);\n",
       "            \n",
       "        \n",
       "\n",
       "        marker_00d569e93626f2abfcaac73ac7177a4e.bindPopup(popup_aeff90188aa30d8324668afdddcaeeed)\n",
       "        ;\n",
       "\n",
       "        \n",
       "    \n",
       "    \n",
       "            marker_00d569e93626f2abfcaac73ac7177a4e.bindTooltip(\n",
       "                `&lt;div&gt;\n",
       "                     Caps Infantil O Equilibrista\n",
       "                 &lt;/div&gt;`,\n",
       "                {&quot;sticky&quot;: true}\n",
       "            );\n",
       "        \n",
       "    \n",
       "            var marker_2c79f98030e6aa136bbdeb82e39660da = L.marker(\n",
       "                [-29.688296, -53.7961155],\n",
       "                {}\n",
       "            ).addTo(marker_cluster_591d644573c358fcb9472a6d58ca4c4a);\n",
       "        \n",
       "    \n",
       "        var popup_0433a3c589a2435ce381db80fd5014d6 = L.popup({&quot;maxWidth&quot;: 300});\n",
       "\n",
       "        \n",
       "            \n",
       "                var html_8cadb219b87f09f20b1eff98e876a4ac = $(`&lt;div id=&quot;html_8cadb219b87f09f20b1eff98e876a4ac&quot; style=&quot;width: 100.0%; height: 100.0%;&quot;&gt;Escola Antônio Francisco Lisbôa&lt;/div&gt;`)[0];\n",
       "                popup_0433a3c589a2435ce381db80fd5014d6.setContent(html_8cadb219b87f09f20b1eff98e876a4ac);\n",
       "            \n",
       "        \n",
       "\n",
       "        marker_2c79f98030e6aa136bbdeb82e39660da.bindPopup(popup_0433a3c589a2435ce381db80fd5014d6)\n",
       "        ;\n",
       "\n",
       "        \n",
       "    \n",
       "    \n",
       "            marker_2c79f98030e6aa136bbdeb82e39660da.bindTooltip(\n",
       "                `&lt;div&gt;\n",
       "                     Escola Antônio Francisco Lisbôa\n",
       "                 &lt;/div&gt;`,\n",
       "                {&quot;sticky&quot;: true}\n",
       "            );\n",
       "        \n",
       "&lt;/script&gt;\n",
       "&lt;/html&gt;\" style=\"position:absolute;width:100%;height:100%;left:0;top:0;border:none !important;\" allowfullscreen webkitallowfullscreen mozallowfullscreen></iframe></div></div>"
      ],
      "text/plain": [
       "<folium.folium.Map at 0x203e7c53b50>"
      ]
     },
     "execution_count": 10,
     "metadata": {},
     "output_type": "execute_result"
    }
   ],
   "source": [
    "mapa"
   ]
  },
  {
   "cell_type": "code",
   "execution_count": null,
   "metadata": {},
   "outputs": [],
   "source": []
  },
  {
   "cell_type": "code",
   "execution_count": null,
   "metadata": {},
   "outputs": [],
   "source": []
  }
 ],
 "metadata": {
  "kernelspec": {
   "display_name": "Python 3 (ipykernel)",
   "language": "python",
   "name": "python3"
  },
  "language_info": {
   "codemirror_mode": {
    "name": "ipython",
    "version": 3
   },
   "file_extension": ".py",
   "mimetype": "text/x-python",
   "name": "python",
   "nbconvert_exporter": "python",
   "pygments_lexer": "ipython3",
   "version": "3.11.4"
  }
 },
 "nbformat": 4,
 "nbformat_minor": 4
}
